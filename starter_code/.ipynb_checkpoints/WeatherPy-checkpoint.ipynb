{
 "cells": [
  {
   "cell_type": "markdown",
   "metadata": {},
   "source": [
    "# WeatherPy\n",
    "----\n",
    "\n",
    "#### Note\n",
    "* Instructions have been included for each segment. You do not have to follow them exactly, but they are included to help you think through the steps."
   ]
  },
  {
   "cell_type": "code",
   "execution_count": 27,
   "metadata": {
    "scrolled": true
   },
   "outputs": [],
   "source": [
    "# Dependencies and Setup\n",
    "import matplotlib.pyplot as plt\n",
    "import pandas as pd\n",
    "import numpy as np\n",
    "import requests\n",
    "import time\n",
    "import json\n",
    "import random\n",
    "from scipy.stats import linregress\n",
    "from pprint import pprint\n",
    "\n",
    "# Import API key\n",
    "from api_keys import weather_api_key\n",
    "\n",
    "# Incorporated citipy to determine city based on latitude and longitude\n",
    "from citipy import citipy\n",
    "\n",
    "# Output File (CSV)\n",
    "output_data_file = \"output_data/cities.csv\"\n",
    "\n",
    "# Range of latitudes and longitudes\n",
    "lat_range = (-90, 90)\n",
    "lng_range = (-180, 180)"
   ]
  },
  {
   "cell_type": "markdown",
   "metadata": {},
   "source": [
    "## Generate Cities List"
   ]
  },
  {
   "cell_type": "code",
   "execution_count": 28,
   "metadata": {},
   "outputs": [
    {
     "data": {
      "text/plain": [
       "609"
      ]
     },
     "execution_count": 28,
     "metadata": {},
     "output_type": "execute_result"
    }
   ],
   "source": [
    "# List for holding lat_lngs and cities\n",
    "lat_lngs = []\n",
    "cities = []\n",
    "\n",
    "# Create a set of random lat and lng combinations\n",
    "lats = np.random.uniform(lat_range[0], lat_range[1], size=1500)\n",
    "lngs = np.random.uniform(lng_range[0], lng_range[1], size=1500)\n",
    "lat_lngs = zip(lats, lngs)\n",
    "\n",
    "# Identify nearest city for each lat, lng combination\n",
    "for lat_lng in lat_lngs:\n",
    "    city = citipy.nearest_city(lat_lng[0], lat_lng[1]).city_name\n",
    "    \n",
    "    # If the city is unique, then add it to a our cities list\n",
    "    if city not in cities:\n",
    "        cities.append(city)\n",
    "\n",
    "# Print the city count to confirm sufficient count\n",
    "len(cities)"
   ]
  },
  {
   "cell_type": "markdown",
   "metadata": {},
   "source": [
    "### Perform API Calls\n",
    "* Perform a weather check on each city using a series of successive API calls.\n",
    "* Include a print log of each city as it'sbeing processed (with the city number and city name).\n"
   ]
  },
  {
   "cell_type": "code",
   "execution_count": 29,
   "metadata": {},
   "outputs": [
    {
     "name": "stdout",
     "output_type": "stream",
     "text": [
      "Beginning Data Retrieval\n",
      "-------------------------------------\n",
      "Processing Record 1 of Set 1 | cockburn town\n",
      "Processing Record 2 of Set 1 | quepos\n",
      "Processing Record 3 of Set 1 | nanortalik\n",
      "Processing Record 4 of Set 1 | codrington\n",
      "Processing Record 5 of Set 1 | eisiskes\n",
      "Processing Record 6 of Set 1 | mataura\n",
      "Processing Record 7 of Set 1 | hobyo\n",
      "Processing Record 8 of Set 1 | saskylakh\n",
      "Processing Record 9 of Set 1 | butaritari\n",
      "Processing Record 10 of Set 1 | garowe\n",
      "Processing Record 11 of Set 1 | chuy\n",
      "Processing Record 12 of Set 1 | klaksvik\n",
      "Processing Record 13 of Set 1 | taft\n",
      "Processing Record 14 of Set 1 | dumas\n",
      "Processing Record 15 of Set 1 | albany\n",
      "Processing Record 16 of Set 1 | ilulissat\n",
      "Processing Record 17 of Set 1 | grindavik\n",
      "Processing Record 18 of Set 1 | cape town\n",
      "Processing Record 19 of Set 1 | vinh\n",
      "Processing Record 20 of Set 1 | geraldton\n",
      "Processing Record 21 of Set 1 | hobart\n",
      "Processing Record 22 of Set 1 | belaya gora\n",
      "Processing Record 23 of Set 1 | kavieng\n",
      "Processing Record 24 of Set 1 | cidreira\n",
      "Processing Record 25 of Set 1 | waddan\n",
      "City not found. Skipping...\n",
      "Processing Record 26 of Set 1 | san cristobal\n",
      "Processing Record 27 of Set 1 | qaanaaq\n",
      "City not found. Skipping...\n",
      "Processing Record 28 of Set 1 | nemuro\n",
      "Processing Record 29 of Set 1 | jumla\n",
      "Processing Record 30 of Set 1 | beloha\n",
      "City not found. Skipping...\n",
      "Processing Record 31 of Set 1 | castro\n",
      "Processing Record 32 of Set 1 | mount gambier\n",
      "Processing Record 33 of Set 1 | hilo\n",
      "Processing Record 34 of Set 1 | san andres\n",
      "Processing Record 35 of Set 1 | puerto escondido\n",
      "Processing Record 36 of Set 1 | mujiayingzi\n",
      "Processing Record 37 of Set 1 | rikitea\n",
      "Processing Record 38 of Set 1 | touros\n",
      "Processing Record 39 of Set 1 | scottsbluff\n",
      "City not found. Skipping...\n",
      "Processing Record 40 of Set 1 | hithadhoo\n",
      "Processing Record 41 of Set 1 | morant bay\n",
      "Processing Record 42 of Set 1 | jamestown\n",
      "Processing Record 43 of Set 1 | namibe\n",
      "Processing Record 44 of Set 1 | dikson\n",
      "Processing Record 45 of Set 1 | manado\n",
      "Processing Record 46 of Set 1 | upernavik\n",
      "Processing Record 47 of Set 1 | bluff\n",
      "Processing Record 48 of Set 1 | yulara\n",
      "City not found. Skipping...\n",
      "Processing Record 49 of Set 1 | saint george\n",
      "Processing Record 1 of Set 2 | atuona\n",
      "Processing Record 2 of Set 2 | tazovskiy\n",
      "Processing Record 3 of Set 2 | east london\n",
      "Processing Record 4 of Set 2 | punta arenas\n",
      "Processing Record 5 of Set 2 | meulaboh\n",
      "Processing Record 6 of Set 2 | port alfred\n",
      "City not found. Skipping...\n",
      "City not found. Skipping...\n",
      "City not found. Skipping...\n",
      "Processing Record 7 of Set 2 | tagab\n",
      "Processing Record 8 of Set 2 | candolim\n",
      "Processing Record 9 of Set 2 | ushuaia\n",
      "Processing Record 10 of Set 2 | bethel\n",
      "Processing Record 11 of Set 2 | porto novo\n",
      "Processing Record 12 of Set 2 | tasiilaq\n",
      "Processing Record 13 of Set 2 | shimoda\n",
      "Processing Record 14 of Set 2 | carnarvon\n",
      "Processing Record 15 of Set 2 | durban\n",
      "Processing Record 16 of Set 2 | bengkulu\n",
      "Processing Record 17 of Set 2 | paracuru\n",
      "Processing Record 18 of Set 2 | half moon bay\n",
      "Processing Record 19 of Set 2 | hermanus\n",
      "Processing Record 20 of Set 2 | pandan\n",
      "Processing Record 21 of Set 2 | rocha\n",
      "Processing Record 22 of Set 2 | omboue\n",
      "Processing Record 23 of Set 2 | kavaratti\n",
      "Processing Record 24 of Set 2 | vaini\n",
      "Processing Record 25 of Set 2 | neuquen\n",
      "Processing Record 26 of Set 2 | narsaq\n",
      "Processing Record 27 of Set 2 | walvis bay\n",
      "Processing Record 28 of Set 2 | abeche\n",
      "Processing Record 29 of Set 2 | progreso\n",
      "Processing Record 30 of Set 2 | anito\n",
      "Processing Record 31 of Set 2 | novobirilyussy\n",
      "Processing Record 32 of Set 2 | khatanga\n",
      "Processing Record 33 of Set 2 | tiarei\n",
      "Processing Record 34 of Set 2 | georgetown\n",
      "Processing Record 35 of Set 2 | busselton\n",
      "Processing Record 36 of Set 2 | cananea\n",
      "Processing Record 37 of Set 2 | talnakh\n",
      "Processing Record 38 of Set 2 | watertown\n",
      "Processing Record 39 of Set 2 | ponta do sol\n",
      "Processing Record 40 of Set 2 | lovington\n",
      "Processing Record 41 of Set 2 | itapage\n",
      "Processing Record 42 of Set 2 | kalabo\n",
      "Processing Record 43 of Set 2 | naryan-mar\n",
      "Processing Record 44 of Set 2 | nikolskoye\n",
      "City not found. Skipping...\n",
      "Processing Record 45 of Set 2 | yellowknife\n",
      "Processing Record 46 of Set 2 | talakan\n",
      "Processing Record 47 of Set 2 | lebu\n",
      "Processing Record 48 of Set 2 | saint-leu\n",
      "Processing Record 49 of Set 2 | torbay\n",
      "Processing Record 1 of Set 3 | tuktoyaktuk\n",
      "Processing Record 2 of Set 3 | faanui\n",
      "City not found. Skipping...\n",
      "Processing Record 3 of Set 3 | santa maria da vitoria\n",
      "Processing Record 4 of Set 3 | kapaa\n",
      "City not found. Skipping...\n",
      "Processing Record 5 of Set 3 | clyde river\n",
      "Processing Record 6 of Set 3 | ahuimanu\n",
      "Processing Record 7 of Set 3 | sosnovo-ozerskoye\n",
      "Processing Record 8 of Set 3 | karla\n",
      "Processing Record 9 of Set 3 | namatanai\n",
      "Processing Record 10 of Set 3 | yar-sale\n",
      "City not found. Skipping...\n",
      "Processing Record 11 of Set 3 | kachiry\n",
      "Processing Record 12 of Set 3 | hegang\n",
      "Processing Record 13 of Set 3 | barrow\n",
      "Processing Record 14 of Set 3 | hamilton\n",
      "Processing Record 15 of Set 3 | sangar\n",
      "Processing Record 16 of Set 3 | sakakah\n",
      "Processing Record 17 of Set 3 | mattoon\n",
      "Processing Record 18 of Set 3 | souillac\n",
      "Processing Record 19 of Set 3 | sotnikovo\n",
      "Processing Record 20 of Set 3 | edgewater\n",
      "Processing Record 21 of Set 3 | mongu\n",
      "Processing Record 22 of Set 3 | keti bandar\n",
      "City not found. Skipping...\n",
      "Processing Record 23 of Set 3 | camacha\n",
      "Processing Record 24 of Set 3 | pangai\n",
      "Processing Record 25 of Set 3 | ribeira grande\n",
      "Processing Record 26 of Set 3 | san jose\n",
      "Processing Record 27 of Set 3 | leningradskiy\n",
      "Processing Record 28 of Set 3 | new norfolk\n",
      "Processing Record 29 of Set 3 | altoona\n",
      "Processing Record 30 of Set 3 | arraial do cabo\n",
      "Processing Record 31 of Set 3 | umm kaddadah\n",
      "Processing Record 32 of Set 3 | marzuq\n",
      "Processing Record 33 of Set 3 | banda aceh\n",
      "Processing Record 34 of Set 3 | nabire\n",
      "Processing Record 35 of Set 3 | padang\n",
      "Processing Record 36 of Set 3 | winnemucca\n",
      "Processing Record 37 of Set 3 | nicoya\n",
      "Processing Record 38 of Set 3 | weligama\n",
      "Processing Record 39 of Set 3 | mwinilunga\n",
      "Processing Record 40 of Set 3 | hasaki\n",
      "Processing Record 41 of Set 3 | guerrero negro\n",
      "Processing Record 42 of Set 3 | solnechnyy\n",
      "Processing Record 43 of Set 3 | puerto ayora\n",
      "Processing Record 44 of Set 3 | kloulklubed\n",
      "Processing Record 45 of Set 3 | atikokan\n",
      "Processing Record 46 of Set 3 | taoudenni\n",
      "Processing Record 47 of Set 3 | aykhal\n",
      "Processing Record 48 of Set 3 | cherskiy\n",
      "Processing Record 49 of Set 3 | bandarbeyla\n",
      "Processing Record 1 of Set 4 | airai\n",
      "Processing Record 2 of Set 4 | port lincoln\n",
      "Processing Record 3 of Set 4 | takoradi\n",
      "Processing Record 4 of Set 4 | palmer\n",
      "Processing Record 5 of Set 4 | lagoa\n",
      "Processing Record 6 of Set 4 | muli\n",
      "Processing Record 7 of Set 4 | coquimbo\n",
      "Processing Record 8 of Set 4 | tuatapere\n",
      "Processing Record 9 of Set 4 | avarua\n",
      "Processing Record 10 of Set 4 | darlowo\n",
      "Processing Record 11 of Set 4 | sola\n",
      "Processing Record 12 of Set 4 | salvador\n",
      "Processing Record 13 of Set 4 | victoria\n",
      "Processing Record 14 of Set 4 | rafaela\n",
      "Processing Record 15 of Set 4 | maldonado\n",
      "Processing Record 16 of Set 4 | fairbanks\n",
      "City not found. Skipping...\n",
      "Processing Record 17 of Set 4 | bubaque\n",
      "Processing Record 18 of Set 4 | union\n",
      "City not found. Skipping...\n",
      "Processing Record 19 of Set 4 | aripuana\n",
      "Processing Record 20 of Set 4 | payson\n",
      "Processing Record 21 of Set 4 | nuuk\n",
      "Processing Record 22 of Set 4 | port elizabeth\n",
      "Processing Record 23 of Set 4 | atambua\n",
      "Processing Record 24 of Set 4 | kandalaksha\n",
      "Processing Record 25 of Set 4 | biskamzha\n",
      "Processing Record 26 of Set 4 | saint-philippe\n",
      "City not found. Skipping...\n",
      "Processing Record 27 of Set 4 | longavi\n",
      "Processing Record 28 of Set 4 | pisco\n",
      "Processing Record 29 of Set 4 | ambilobe\n",
      "Processing Record 30 of Set 4 | saint anthony\n",
      "Processing Record 31 of Set 4 | grahamstown\n",
      "Processing Record 32 of Set 4 | palu\n",
      "Processing Record 33 of Set 4 | lavrentiya\n",
      "Processing Record 34 of Set 4 | paita\n",
      "Processing Record 35 of Set 4 | sao felix do xingu\n",
      "City not found. Skipping...\n",
      "Processing Record 36 of Set 4 | columbus\n",
      "Processing Record 37 of Set 4 | saint-pierre\n",
      "Processing Record 38 of Set 4 | sao filipe\n",
      "Processing Record 39 of Set 4 | necochea\n",
      "Processing Record 40 of Set 4 | mahebourg\n",
      "Processing Record 41 of Set 4 | rovaniemi\n"
     ]
    },
    {
     "name": "stdout",
     "output_type": "stream",
     "text": [
      "Processing Record 42 of Set 4 | torzhok\n",
      "Processing Record 43 of Set 4 | viedma\n",
      "Processing Record 44 of Set 4 | bathsheba\n",
      "Processing Record 45 of Set 4 | cabo san lucas\n",
      "Processing Record 46 of Set 4 | mar del plata\n",
      "Processing Record 47 of Set 4 | maryborough\n",
      "Processing Record 48 of Set 4 | mandal\n",
      "Processing Record 49 of Set 4 | margate\n",
      "Processing Record 1 of Set 5 | namwala\n",
      "Processing Record 2 of Set 5 | hofn\n",
      "Processing Record 3 of Set 5 | bekovo\n",
      "Processing Record 4 of Set 5 | saint-felix-de-valois\n",
      "Processing Record 5 of Set 5 | boende\n",
      "Processing Record 6 of Set 5 | sioux lookout\n",
      "Processing Record 7 of Set 5 | pachino\n",
      "Processing Record 8 of Set 5 | port blair\n",
      "Processing Record 9 of Set 5 | saldanha\n",
      "City not found. Skipping...\n",
      "Processing Record 10 of Set 5 | filadelfia\n",
      "Processing Record 11 of Set 5 | lundazi\n",
      "Processing Record 12 of Set 5 | olafsvik\n",
      "City not found. Skipping...\n",
      "Processing Record 13 of Set 5 | tahara\n",
      "Processing Record 14 of Set 5 | boddam\n",
      "Processing Record 15 of Set 5 | elizabeth city\n",
      "Processing Record 16 of Set 5 | lompoc\n",
      "Processing Record 17 of Set 5 | vardo\n",
      "Processing Record 18 of Set 5 | gualaceo\n",
      "Processing Record 19 of Set 5 | longyearbyen\n",
      "Processing Record 20 of Set 5 | marcali\n",
      "Processing Record 21 of Set 5 | mosquera\n",
      "Processing Record 22 of Set 5 | naze\n",
      "Processing Record 23 of Set 5 | pervomayskoye\n",
      "Processing Record 24 of Set 5 | rio gallegos\n",
      "Processing Record 25 of Set 5 | neyvo-shaytanskiy\n",
      "City not found. Skipping...\n",
      "Processing Record 26 of Set 5 | martapura\n",
      "Processing Record 27 of Set 5 | kungurtug\n",
      "City not found. Skipping...\n",
      "Processing Record 28 of Set 5 | gidam\n",
      "Processing Record 29 of Set 5 | sarangani\n",
      "City not found. Skipping...\n",
      "Processing Record 30 of Set 5 | dovolnoye\n",
      "Processing Record 31 of Set 5 | gobabis\n",
      "Processing Record 32 of Set 5 | bratsk\n",
      "City not found. Skipping...\n",
      "Processing Record 33 of Set 5 | rio brilhante\n",
      "Processing Record 34 of Set 5 | monrovia\n",
      "Processing Record 35 of Set 5 | nhulunbuy\n",
      "Processing Record 36 of Set 5 | chapais\n",
      "Processing Record 37 of Set 5 | ternate\n",
      "Processing Record 38 of Set 5 | bredasdorp\n",
      "Processing Record 39 of Set 5 | hovd\n",
      "City not found. Skipping...\n",
      "Processing Record 40 of Set 5 | bay roberts\n",
      "Processing Record 41 of Set 5 | chokurdakh\n",
      "Processing Record 42 of Set 5 | viransehir\n",
      "Processing Record 43 of Set 5 | frontera\n",
      "Processing Record 44 of Set 5 | quatre cocos\n",
      "Processing Record 45 of Set 5 | bhuban\n",
      "Processing Record 46 of Set 5 | bambous virieux\n",
      "Processing Record 47 of Set 5 | lufilufi\n",
      "Processing Record 48 of Set 5 | mancio lima\n",
      "Processing Record 49 of Set 5 | adet\n",
      "Processing Record 1 of Set 6 | hambantota\n",
      "Processing Record 2 of Set 6 | midland\n",
      "City not found. Skipping...\n",
      "Processing Record 3 of Set 6 | wenling\n",
      "City not found. Skipping...\n",
      "Processing Record 4 of Set 6 | altamira\n",
      "Processing Record 5 of Set 6 | kerman\n",
      "Processing Record 6 of Set 6 | morondava\n",
      "Processing Record 7 of Set 6 | kuching\n",
      "Processing Record 8 of Set 6 | oeiras\n",
      "Processing Record 9 of Set 6 | arlit\n",
      "City not found. Skipping...\n",
      "Processing Record 10 of Set 6 | honningsvag\n",
      "Processing Record 11 of Set 6 | lisakovsk\n",
      "Processing Record 12 of Set 6 | ixtapa\n",
      "City not found. Skipping...\n",
      "Processing Record 13 of Set 6 | luderitz\n",
      "Processing Record 14 of Set 6 | oksfjord\n",
      "Processing Record 15 of Set 6 | belyy yar\n",
      "Processing Record 16 of Set 6 | nioki\n",
      "City not found. Skipping...\n",
      "Processing Record 17 of Set 6 | kieta\n",
      "Processing Record 18 of Set 6 | san vicente\n",
      "Processing Record 19 of Set 6 | asau\n",
      "Processing Record 20 of Set 6 | portlethen\n",
      "Processing Record 21 of Set 6 | katsuura\n",
      "Processing Record 22 of Set 6 | moberly\n",
      "Processing Record 23 of Set 6 | provideniya\n",
      "Processing Record 24 of Set 6 | ancud\n",
      "City not found. Skipping...\n",
      "Processing Record 25 of Set 6 | gornopravdinsk\n",
      "Processing Record 26 of Set 6 | road town\n",
      "Processing Record 27 of Set 6 | ostrovnoy\n",
      "Processing Record 28 of Set 6 | baruun-urt\n",
      "Processing Record 29 of Set 6 | aksu\n",
      "Processing Record 30 of Set 6 | yalta\n",
      "Processing Record 31 of Set 6 | key west\n",
      "Processing Record 32 of Set 6 | haverfordwest\n",
      "Processing Record 33 of Set 6 | shahreza\n",
      "Processing Record 34 of Set 6 | polson\n",
      "Processing Record 35 of Set 6 | nikolayevsk-na-amure\n",
      "Processing Record 36 of Set 6 | santo tomas\n",
      "Processing Record 37 of Set 6 | herrin\n",
      "Processing Record 38 of Set 6 | galveston\n",
      "Processing Record 39 of Set 6 | kenora\n",
      "Processing Record 40 of Set 6 | nantucket\n",
      "Processing Record 41 of Set 6 | jiwani\n",
      "Processing Record 42 of Set 6 | egvekinot\n",
      "Processing Record 43 of Set 6 | rostovka\n",
      "City not found. Skipping...\n",
      "City not found. Skipping...\n",
      "Processing Record 44 of Set 6 | bauchi\n",
      "Processing Record 45 of Set 6 | sistranda\n",
      "Processing Record 46 of Set 6 | kilindoni\n",
      "Processing Record 47 of Set 6 | laguna\n",
      "Processing Record 48 of Set 6 | christchurch\n",
      "Processing Record 49 of Set 6 | ajdabiya\n",
      "Processing Record 1 of Set 7 | pangnirtung\n",
      "Processing Record 2 of Set 7 | pevek\n",
      "Processing Record 3 of Set 7 | khani\n",
      "Processing Record 4 of Set 7 | liverpool\n",
      "Processing Record 5 of Set 7 | vila franca do campo\n",
      "Processing Record 6 of Set 7 | san quintin\n",
      "Processing Record 7 of Set 7 | kimberley\n",
      "City not found. Skipping...\n",
      "Processing Record 8 of Set 7 | vila velha\n",
      "Processing Record 9 of Set 7 | santa maria do suacui\n",
      "Processing Record 10 of Set 7 | bilibino\n",
      "Processing Record 11 of Set 7 | alta floresta\n",
      "Processing Record 12 of Set 7 | constitucion\n",
      "Processing Record 13 of Set 7 | buala\n",
      "Processing Record 14 of Set 7 | broome\n",
      "Processing Record 15 of Set 7 | resistencia\n",
      "Processing Record 16 of Set 7 | havre-saint-pierre\n",
      "Processing Record 17 of Set 7 | miles city\n",
      "Processing Record 18 of Set 7 | belfast\n",
      "Processing Record 19 of Set 7 | trairi\n",
      "Processing Record 20 of Set 7 | povoa de varzim\n",
      "Processing Record 21 of Set 7 | kulhudhuffushi\n",
      "Processing Record 22 of Set 7 | barillas\n",
      "Processing Record 23 of Set 7 | tiksi\n",
      "Processing Record 24 of Set 7 | buchanan\n",
      "Processing Record 25 of Set 7 | ippy\n",
      "City not found. Skipping...\n",
      "Processing Record 26 of Set 7 | brazzaville\n",
      "Processing Record 27 of Set 7 | brandon\n",
      "Processing Record 28 of Set 7 | inhambane\n",
      "Processing Record 29 of Set 7 | talcahuano\n",
      "Processing Record 30 of Set 7 | san ciro de acosta\n",
      "Processing Record 31 of Set 7 | vengerovo\n",
      "Processing Record 32 of Set 7 | polunochnoye\n",
      "Processing Record 33 of Set 7 | acajutla\n",
      "Processing Record 34 of Set 7 | kamiiso\n",
      "Processing Record 35 of Set 7 | nouadhibou\n",
      "Processing Record 36 of Set 7 | kaniama\n",
      "Processing Record 37 of Set 7 | batagay-alyta\n",
      "Processing Record 38 of Set 7 | himmaste\n",
      "Processing Record 39 of Set 7 | lydenburg\n",
      "Processing Record 40 of Set 7 | gambela\n",
      "Processing Record 41 of Set 7 | mackay\n",
      "Processing Record 42 of Set 7 | altenholz\n",
      "Processing Record 43 of Set 7 | umm lajj\n",
      "Processing Record 44 of Set 7 | mirandola\n",
      "Processing Record 45 of Set 7 | nipawin\n",
      "City not found. Skipping...\n",
      "Processing Record 46 of Set 7 | roald\n",
      "Processing Record 47 of Set 7 | changqing\n",
      "Processing Record 48 of Set 7 | ronne\n",
      "Processing Record 49 of Set 7 | kruisfontein\n",
      "Processing Record 1 of Set 8 | vincennes\n",
      "Processing Record 2 of Set 8 | yeniseysk\n",
      "Processing Record 3 of Set 8 | kodiak\n",
      "Processing Record 4 of Set 8 | katangli\n",
      "Processing Record 5 of Set 8 | brigantine\n",
      "Processing Record 6 of Set 8 | wuhu\n",
      "Processing Record 7 of Set 8 | da nang\n",
      "Processing Record 8 of Set 8 | bowen\n",
      "Processing Record 9 of Set 8 | hanzhong\n",
      "Processing Record 10 of Set 8 | savonlinna\n",
      "Processing Record 11 of Set 8 | rio grande\n",
      "Processing Record 12 of Set 8 | san patricio\n",
      "Processing Record 13 of Set 8 | marsh harbour\n",
      "Processing Record 14 of Set 8 | coihaique\n",
      "Processing Record 15 of Set 8 | srednekolymsk\n",
      "Processing Record 16 of Set 8 | ust-maya\n",
      "Processing Record 17 of Set 8 | westport\n",
      "Processing Record 18 of Set 8 | adrar\n",
      "Processing Record 19 of Set 8 | himatangi\n",
      "Processing Record 20 of Set 8 | nishihara\n",
      "Processing Record 21 of Set 8 | aklavik\n",
      "Processing Record 22 of Set 8 | haines junction\n",
      "Processing Record 23 of Set 8 | yongan\n",
      "Processing Record 24 of Set 8 | sao joao da barra\n",
      "Processing Record 25 of Set 8 | matay\n",
      "Processing Record 26 of Set 8 | kutum\n",
      "Processing Record 27 of Set 8 | seljord\n",
      "Processing Record 28 of Set 8 | vwawa\n",
      "Processing Record 29 of Set 8 | mayo\n",
      "Processing Record 30 of Set 8 | anchorage\n"
     ]
    },
    {
     "name": "stdout",
     "output_type": "stream",
     "text": [
      "Processing Record 31 of Set 8 | tabas\n",
      "City not found. Skipping...\n",
      "Processing Record 32 of Set 8 | sitka\n",
      "Processing Record 33 of Set 8 | otse\n",
      "Processing Record 34 of Set 8 | asfi\n",
      "Processing Record 35 of Set 8 | alugan\n",
      "Processing Record 36 of Set 8 | tabuk\n",
      "Processing Record 37 of Set 8 | okhotsk\n",
      "Processing Record 38 of Set 8 | iqaluit\n",
      "Processing Record 39 of Set 8 | pulaski\n",
      "Processing Record 40 of Set 8 | atherton\n",
      "Processing Record 41 of Set 8 | bonavista\n",
      "Processing Record 42 of Set 8 | kindu\n",
      "Processing Record 43 of Set 8 | bambari\n",
      "Processing Record 44 of Set 8 | high level\n",
      "Processing Record 45 of Set 8 | dunedin\n",
      "Processing Record 46 of Set 8 | krasnoselkup\n",
      "Processing Record 47 of Set 8 | wewak\n",
      "Processing Record 48 of Set 8 | qaqortoq\n",
      "Processing Record 49 of Set 8 | goure\n",
      "Processing Record 1 of Set 9 | correia pinto\n",
      "Processing Record 2 of Set 9 | yanam\n",
      "Processing Record 3 of Set 9 | daan\n",
      "Processing Record 4 of Set 9 | mimoso do sul\n",
      "City not found. Skipping...\n",
      "Processing Record 5 of Set 9 | pailon\n",
      "Processing Record 6 of Set 9 | guarapari\n",
      "Processing Record 7 of Set 9 | khiri mat\n",
      "Processing Record 8 of Set 9 | ponta delgada\n",
      "Processing Record 9 of Set 9 | kibaya\n",
      "Processing Record 10 of Set 9 | pidhorodne\n",
      "Processing Record 11 of Set 9 | khandyga\n",
      "Processing Record 12 of Set 9 | vazante\n",
      "Processing Record 13 of Set 9 | salinopolis\n",
      "Processing Record 14 of Set 9 | sabha\n",
      "Processing Record 15 of Set 9 | salalah\n",
      "Processing Record 16 of Set 9 | port hardy\n",
      "Processing Record 17 of Set 9 | norman wells\n",
      "Processing Record 18 of Set 9 | plettenberg bay\n",
      "Processing Record 19 of Set 9 | dicabisagan\n",
      "Processing Record 20 of Set 9 | huitziltepec\n",
      "Processing Record 21 of Set 9 | wuxue\n",
      "Processing Record 22 of Set 9 | cesvaine\n",
      "Processing Record 23 of Set 9 | esfahan\n",
      "Processing Record 24 of Set 9 | wanaka\n",
      "Processing Record 25 of Set 9 | caravelas\n",
      "Processing Record 26 of Set 9 | kongolo\n",
      "Processing Record 27 of Set 9 | pontian kecil\n",
      "Processing Record 28 of Set 9 | bethanien\n",
      "Processing Record 29 of Set 9 | thompson\n",
      "Processing Record 30 of Set 9 | dalbandin\n",
      "Processing Record 31 of Set 9 | xunchang\n",
      "Processing Record 32 of Set 9 | champerico\n",
      "Processing Record 33 of Set 9 | natal\n",
      "Processing Record 34 of Set 9 | orlik\n",
      "Processing Record 35 of Set 9 | burnie\n",
      "Processing Record 36 of Set 9 | kaitangata\n",
      "Processing Record 37 of Set 9 | kalakamati\n",
      "Processing Record 38 of Set 9 | payakumbuh\n",
      "Processing Record 39 of Set 9 | tottori\n",
      "Processing Record 40 of Set 9 | matara\n",
      "Processing Record 41 of Set 9 | srandakan\n",
      "Processing Record 42 of Set 9 | pontianak\n",
      "Processing Record 43 of Set 9 | bara\n",
      "Processing Record 44 of Set 9 | bilma\n",
      "City not found. Skipping...\n",
      "Processing Record 45 of Set 9 | tsaratanana\n",
      "Processing Record 46 of Set 9 | kodinsk\n",
      "Processing Record 47 of Set 9 | los llanos de aridane\n",
      "Processing Record 48 of Set 9 | mestia\n",
      "Processing Record 49 of Set 9 | najran\n",
      "Processing Record 1 of Set 10 | rundu\n",
      "Processing Record 2 of Set 10 | porto belo\n",
      "Processing Record 3 of Set 10 | brae\n",
      "Processing Record 4 of Set 10 | chara\n",
      "Processing Record 5 of Set 10 | mitu\n",
      "Processing Record 6 of Set 10 | katherine\n",
      "Processing Record 7 of Set 10 | lasa\n",
      "Processing Record 8 of Set 10 | mamallapuram\n",
      "Processing Record 9 of Set 10 | mantua\n",
      "City not found. Skipping...\n",
      "City not found. Skipping...\n",
      "Processing Record 10 of Set 10 | miraflores\n",
      "Processing Record 11 of Set 10 | qarqin\n",
      "Processing Record 12 of Set 10 | yeppoon\n",
      "Processing Record 13 of Set 10 | nelson bay\n",
      "Processing Record 14 of Set 10 | caraquet\n",
      "Processing Record 15 of Set 10 | avera\n",
      "City not found. Skipping...\n",
      "Processing Record 16 of Set 10 | sikonge\n",
      "Processing Record 17 of Set 10 | mahibadhoo\n",
      "Processing Record 18 of Set 10 | moron\n",
      "Processing Record 19 of Set 10 | turukhansk\n",
      "Processing Record 20 of Set 10 | montero\n",
      "Processing Record 21 of Set 10 | lagos\n",
      "Processing Record 22 of Set 10 | fortuna\n",
      "Processing Record 23 of Set 10 | lushoto\n",
      "Processing Record 24 of Set 10 | chiang kham\n",
      "Processing Record 25 of Set 10 | onega\n",
      "Processing Record 26 of Set 10 | alofi\n",
      "Processing Record 27 of Set 10 | southport\n",
      "Processing Record 28 of Set 10 | nizwa\n",
      "City not found. Skipping...\n",
      "City not found. Skipping...\n",
      "Processing Record 29 of Set 10 | mbaiki\n",
      "Processing Record 30 of Set 10 | xichang\n",
      "Processing Record 31 of Set 10 | rafraf\n",
      "Processing Record 32 of Set 10 | berlevag\n",
      "Processing Record 33 of Set 10 | oranjemund\n",
      "Processing Record 34 of Set 10 | isangel\n",
      "Processing Record 35 of Set 10 | labuhan\n",
      "Processing Record 36 of Set 10 | gizo\n",
      "Processing Record 37 of Set 10 | kupang\n",
      "Processing Record 38 of Set 10 | kalugumalai\n",
      "Processing Record 39 of Set 10 | smithers\n",
      "Processing Record 40 of Set 10 | marabba\n",
      "Processing Record 41 of Set 10 | aginskoye\n",
      "Processing Record 42 of Set 10 | hami\n",
      "Processing Record 43 of Set 10 | boyolangu\n",
      "Processing Record 44 of Set 10 | husavik\n",
      "City not found. Skipping...\n",
      "Processing Record 45 of Set 10 | fraga\n",
      "Processing Record 46 of Set 10 | lorengau\n",
      "Processing Record 47 of Set 10 | nurlat\n",
      "Processing Record 48 of Set 10 | starcevo\n",
      "Processing Record 49 of Set 10 | formosa\n",
      "Processing Record 1 of Set 11 | poum\n",
      "Processing Record 2 of Set 11 | vestmannaeyjar\n",
      "Processing Record 3 of Set 11 | suhbaatar\n",
      "Processing Record 4 of Set 11 | ghorawal\n",
      "Processing Record 5 of Set 11 | huangmei\n",
      "Processing Record 6 of Set 11 | abu samrah\n",
      "Processing Record 7 of Set 11 | eenhana\n",
      "Processing Record 8 of Set 11 | karratha\n",
      "Processing Record 9 of Set 11 | gushikawa\n",
      "Processing Record 10 of Set 11 | cody\n",
      "Processing Record 11 of Set 11 | severo-kurilsk\n",
      "Processing Record 12 of Set 11 | katobu\n",
      "City not found. Skipping...\n",
      "City not found. Skipping...\n",
      "Processing Record 13 of Set 11 | brantford\n",
      "City not found. Skipping...\n",
      "Processing Record 14 of Set 11 | sobolevo\n",
      "Processing Record 15 of Set 11 | jinchang\n",
      "Processing Record 16 of Set 11 | ibra\n",
      "Processing Record 17 of Set 11 | tura\n",
      "Processing Record 18 of Set 11 | alice springs\n",
      "Processing Record 19 of Set 11 | ust-barguzin\n",
      "Processing Record 20 of Set 11 | sorkjosen\n",
      "Processing Record 21 of Set 11 | mehamn\n",
      "City not found. Skipping...\n",
      "Processing Record 22 of Set 11 | qinhuangdao\n",
      "City not found. Skipping...\n",
      "Processing Record 23 of Set 11 | nome\n",
      "Processing Record 24 of Set 11 | paamiut\n",
      "Processing Record 25 of Set 11 | hede\n",
      "Processing Record 26 of Set 11 | novouzensk\n",
      "Processing Record 27 of Set 11 | palauig\n",
      "Processing Record 28 of Set 11 | tautira\n",
      "Processing Record 29 of Set 11 | anadyr\n",
      "Processing Record 30 of Set 11 | olinda\n",
      "City not found. Skipping...\n",
      "Processing Record 31 of Set 11 | baker city\n",
      "Processing Record 32 of Set 11 | reconquista\n",
      "Processing Record 33 of Set 11 | lake havasu city\n",
      "Processing Record 34 of Set 11 | manta\n",
      "Processing Record 35 of Set 11 | antibes\n",
      "Processing Record 36 of Set 11 | weymouth\n",
      "Processing Record 37 of Set 11 | cururupu\n",
      "Processing Record 38 of Set 11 | grand gaube\n",
      "Processing Record 39 of Set 11 | puerto baquerizo moreno\n",
      "Processing Record 40 of Set 11 | murgab\n",
      "Processing Record 41 of Set 11 | kefamenanu\n",
      "Processing Record 42 of Set 11 | shakawe\n",
      "Processing Record 43 of Set 11 | kahului\n",
      "Processing Record 44 of Set 11 | port victoria\n",
      "Processing Record 45 of Set 11 | foxton\n",
      "Processing Record 46 of Set 11 | presidente franco\n",
      "Processing Record 47 of Set 11 | doka\n",
      "Processing Record 48 of Set 11 | esperance\n",
      "Processing Record 49 of Set 11 | male\n",
      "Processing Record 1 of Set 12 | sabang\n",
      "Processing Record 2 of Set 12 | mao\n",
      "Processing Record 3 of Set 12 | wamba\n",
      "Processing Record 4 of Set 12 | bardiyah\n",
      "Processing Record 5 of Set 12 | carauari\n",
      "Processing Record 6 of Set 12 | san joaquin\n",
      "Processing Record 7 of Set 12 | sembakung\n",
      "Processing Record 8 of Set 12 | strone\n",
      "Processing Record 9 of Set 12 | tilichiki\n",
      "Processing Record 10 of Set 12 | eyl\n",
      "Processing Record 11 of Set 12 | antalaha\n",
      "Processing Record 12 of Set 12 | zyryanskoye\n",
      "Processing Record 13 of Set 12 | gogrial\n",
      "Processing Record 14 of Set 12 | puerto ayacucho\n",
      "Processing Record 15 of Set 12 | darhan\n",
      "Processing Record 16 of Set 12 | barreirinhas\n",
      "Processing Record 17 of Set 12 | lawton\n",
      "Processing Record 18 of Set 12 | san policarpo\n",
      "Processing Record 19 of Set 12 | raga\n",
      "Processing Record 20 of Set 12 | sao miguel do araguaia\n",
      "-------------------------------------\n",
      "Data Retrieval Complete\n",
      "-------------------------------------\n"
     ]
    }
   ],
   "source": [
    "# set up lists to hold reponse info\n",
    "\n",
    "city_list = []\n",
    "lat_list = []\n",
    "lng_list = []\n",
    "temp_list = []\n",
    "humidity_list =[]\n",
    "cloudiness_list = []\n",
    "wind_list = []\n",
    "country_list = []\n",
    "date_list = []\n",
    "\n",
    "record_num = 0\n",
    "set_num =1\n",
    "\n",
    "print('Beginning Data Retrieval')\n",
    "print('-------------------------------------')\n",
    "\n",
    "for city in cities:\n",
    "    try:\n",
    "        response = requests.get(query_url + city).json()\n",
    "        lat_list.append(response['coord']['lat'])\n",
    "        lng_list.append(response['coord']['lon'])\n",
    "        temp_list.append(response['main']['temp_max'])                \n",
    "        humidity_list.append(response['main']['humidity'])\n",
    "        cloudiness_list.append(response['clouds']['all'])\n",
    "        wind_list.append(response['wind']['speed'])\n",
    "        country_list.append(response['sys']['country'])\n",
    "        date_list.append(response['dt'])\n",
    "        if record_num > 48:\n",
    "            record_num = 1\n",
    "            set_num += 1\n",
    "            city_list.append(city)\n",
    "        else:\n",
    "            record_num += 1\n",
    "            city_list.append(city)\n",
    "        print(f\"Processing Record {record_num} of Set {set_num} | {city}\")\n",
    "    except Exception:\n",
    "        print(\"City not found. Skipping...\")\n",
    "print('-------------------------------------')\n",
    "print('Data Retrieval Complete')\n",
    "print('-------------------------------------')"
   ]
  },
  {
   "cell_type": "code",
   "execution_count": 30,
   "metadata": {},
   "outputs": [],
   "source": [
    "# for city in cities:\n",
    "#     response = requests.get(query_url + city).json()\n",
    "#     pprint(response)"
   ]
  },
  {
   "cell_type": "markdown",
   "metadata": {},
   "source": [
    "### Convert Raw Data to DataFrame\n",
    "* Export the city data into a .csv.\n",
    "* Display the DataFrame"
   ]
  },
  {
   "cell_type": "code",
   "execution_count": 33,
   "metadata": {},
   "outputs": [],
   "source": [
    "weather = {\n",
    "    \"City\" : city_list,\n",
    "    \"Lat\" : lat_list,\n",
    "    \"Lng\" : lng_list,\n",
    "    \"Max Temp\" : temp_list,\n",
    "    \"Humidity\" : humidity_list,\n",
    "    \"Cloudiness\" : cloudiness_list,\n",
    "    \"Wind Speed\" : wind_list,\n",
    "    \"Country\" : country_list,\n",
    "    \"Date\" : date_list\n",
    "}"
   ]
  },
  {
   "cell_type": "code",
   "execution_count": 34,
   "metadata": {},
   "outputs": [
    {
     "name": "stdout",
     "output_type": "stream",
     "text": [
      "559\n",
      "559\n",
      "559\n",
      "559\n",
      "559\n",
      "559\n",
      "559\n",
      "559\n",
      "559\n"
     ]
    }
   ],
   "source": [
    "print(len(city_list))\n",
    "print(len(lat_list))\n",
    "print(len(lng_list))\n",
    "print(len(temp_list))\n",
    "print(len(humidity_list))\n",
    "print(len(cloudiness_list))\n",
    "print(len(wind_list))\n",
    "print(len(country_list))\n",
    "print(len(date_list))"
   ]
  },
  {
   "cell_type": "code",
   "execution_count": 45,
   "metadata": {},
   "outputs": [
    {
     "data": {
      "text/html": [
       "<div>\n",
       "<style scoped>\n",
       "    .dataframe tbody tr th:only-of-type {\n",
       "        vertical-align: middle;\n",
       "    }\n",
       "\n",
       "    .dataframe tbody tr th {\n",
       "        vertical-align: top;\n",
       "    }\n",
       "\n",
       "    .dataframe thead th {\n",
       "        text-align: right;\n",
       "    }\n",
       "</style>\n",
       "<table border=\"1\" class=\"dataframe\">\n",
       "  <thead>\n",
       "    <tr style=\"text-align: right;\">\n",
       "      <th></th>\n",
       "      <th>City</th>\n",
       "      <th>Lat</th>\n",
       "      <th>Lng</th>\n",
       "      <th>Max Temp</th>\n",
       "      <th>Humidity</th>\n",
       "      <th>Cloudiness</th>\n",
       "      <th>Wind Speed</th>\n",
       "      <th>Country</th>\n",
       "      <th>Date</th>\n",
       "    </tr>\n",
       "  </thead>\n",
       "  <tbody>\n",
       "    <tr>\n",
       "      <th>0</th>\n",
       "      <td>cockburn town</td>\n",
       "      <td>21.4612</td>\n",
       "      <td>-71.1419</td>\n",
       "      <td>82.40</td>\n",
       "      <td>61</td>\n",
       "      <td>40</td>\n",
       "      <td>17.27</td>\n",
       "      <td>TC</td>\n",
       "      <td>1619716336</td>\n",
       "    </tr>\n",
       "    <tr>\n",
       "      <th>1</th>\n",
       "      <td>quepos</td>\n",
       "      <td>9.4236</td>\n",
       "      <td>-84.1652</td>\n",
       "      <td>75.20</td>\n",
       "      <td>73</td>\n",
       "      <td>75</td>\n",
       "      <td>5.75</td>\n",
       "      <td>CR</td>\n",
       "      <td>1619716402</td>\n",
       "    </tr>\n",
       "    <tr>\n",
       "      <th>2</th>\n",
       "      <td>nanortalik</td>\n",
       "      <td>60.1432</td>\n",
       "      <td>-45.2371</td>\n",
       "      <td>38.70</td>\n",
       "      <td>78</td>\n",
       "      <td>16</td>\n",
       "      <td>5.77</td>\n",
       "      <td>GL</td>\n",
       "      <td>1619716294</td>\n",
       "    </tr>\n",
       "    <tr>\n",
       "      <th>3</th>\n",
       "      <td>codrington</td>\n",
       "      <td>-38.2667</td>\n",
       "      <td>141.9667</td>\n",
       "      <td>53.24</td>\n",
       "      <td>91</td>\n",
       "      <td>22</td>\n",
       "      <td>5.50</td>\n",
       "      <td>AU</td>\n",
       "      <td>1619716402</td>\n",
       "    </tr>\n",
       "    <tr>\n",
       "      <th>4</th>\n",
       "      <td>eisiskes</td>\n",
       "      <td>54.1667</td>\n",
       "      <td>25.0000</td>\n",
       "      <td>55.99</td>\n",
       "      <td>47</td>\n",
       "      <td>0</td>\n",
       "      <td>5.75</td>\n",
       "      <td>LT</td>\n",
       "      <td>1619716403</td>\n",
       "    </tr>\n",
       "  </tbody>\n",
       "</table>\n",
       "</div>"
      ],
      "text/plain": [
       "            City      Lat       Lng  Max Temp  Humidity  Cloudiness  \\\n",
       "0  cockburn town  21.4612  -71.1419     82.40        61          40   \n",
       "1         quepos   9.4236  -84.1652     75.20        73          75   \n",
       "2     nanortalik  60.1432  -45.2371     38.70        78          16   \n",
       "3     codrington -38.2667  141.9667     53.24        91          22   \n",
       "4       eisiskes  54.1667   25.0000     55.99        47           0   \n",
       "\n",
       "   Wind Speed Country        Date  \n",
       "0       17.27      TC  1619716336  \n",
       "1        5.75      CR  1619716402  \n",
       "2        5.77      GL  1619716294  \n",
       "3        5.50      AU  1619716402  \n",
       "4        5.75      LT  1619716403  "
      ]
     },
     "execution_count": 45,
     "metadata": {},
     "output_type": "execute_result"
    }
   ],
   "source": [
    "weather_df = pd.DataFrame(weather)\n",
    "weather_df.to_csv('../output_data/weather_df.csv')\n",
    "\n",
    "weather_df.head()"
   ]
  },
  {
   "cell_type": "code",
   "execution_count": 46,
   "metadata": {},
   "outputs": [
    {
     "data": {
      "text/html": [
       "<div>\n",
       "<style scoped>\n",
       "    .dataframe tbody tr th:only-of-type {\n",
       "        vertical-align: middle;\n",
       "    }\n",
       "\n",
       "    .dataframe tbody tr th {\n",
       "        vertical-align: top;\n",
       "    }\n",
       "\n",
       "    .dataframe thead th {\n",
       "        text-align: right;\n",
       "    }\n",
       "</style>\n",
       "<table border=\"1\" class=\"dataframe\">\n",
       "  <thead>\n",
       "    <tr style=\"text-align: right;\">\n",
       "      <th></th>\n",
       "      <th>Lat</th>\n",
       "      <th>Lng</th>\n",
       "      <th>Max Temp</th>\n",
       "      <th>Humidity</th>\n",
       "      <th>Cloudiness</th>\n",
       "      <th>Wind Speed</th>\n",
       "      <th>Date</th>\n",
       "    </tr>\n",
       "  </thead>\n",
       "  <tbody>\n",
       "    <tr>\n",
       "      <th>count</th>\n",
       "      <td>559.000000</td>\n",
       "      <td>559.000000</td>\n",
       "      <td>559.000000</td>\n",
       "      <td>559.000000</td>\n",
       "      <td>559.000000</td>\n",
       "      <td>559.000000</td>\n",
       "      <td>5.590000e+02</td>\n",
       "    </tr>\n",
       "    <tr>\n",
       "      <th>mean</th>\n",
       "      <td>19.095853</td>\n",
       "      <td>16.093731</td>\n",
       "      <td>63.525098</td>\n",
       "      <td>68.182469</td>\n",
       "      <td>57.803220</td>\n",
       "      <td>7.516261</td>\n",
       "      <td>1.619717e+09</td>\n",
       "    </tr>\n",
       "    <tr>\n",
       "      <th>std</th>\n",
       "      <td>33.322268</td>\n",
       "      <td>89.267036</td>\n",
       "      <td>20.210118</td>\n",
       "      <td>23.188467</td>\n",
       "      <td>35.937779</td>\n",
       "      <td>4.886309</td>\n",
       "      <td>1.454159e+02</td>\n",
       "    </tr>\n",
       "    <tr>\n",
       "      <th>min</th>\n",
       "      <td>-54.800000</td>\n",
       "      <td>-179.166700</td>\n",
       "      <td>-0.690000</td>\n",
       "      <td>2.000000</td>\n",
       "      <td>0.000000</td>\n",
       "      <td>0.130000</td>\n",
       "      <td>1.619716e+09</td>\n",
       "    </tr>\n",
       "    <tr>\n",
       "      <th>25%</th>\n",
       "      <td>-7.926250</td>\n",
       "      <td>-62.118350</td>\n",
       "      <td>49.495000</td>\n",
       "      <td>55.000000</td>\n",
       "      <td>21.500000</td>\n",
       "      <td>4.000000</td>\n",
       "      <td>1.619716e+09</td>\n",
       "    </tr>\n",
       "    <tr>\n",
       "      <th>50%</th>\n",
       "      <td>21.444700</td>\n",
       "      <td>23.127400</td>\n",
       "      <td>68.400000</td>\n",
       "      <td>73.000000</td>\n",
       "      <td>74.000000</td>\n",
       "      <td>6.580000</td>\n",
       "      <td>1.619717e+09</td>\n",
       "    </tr>\n",
       "    <tr>\n",
       "      <th>75%</th>\n",
       "      <td>47.680100</td>\n",
       "      <td>93.100000</td>\n",
       "      <td>78.800000</td>\n",
       "      <td>87.000000</td>\n",
       "      <td>90.000000</td>\n",
       "      <td>9.975000</td>\n",
       "      <td>1.619717e+09</td>\n",
       "    </tr>\n",
       "    <tr>\n",
       "      <th>max</th>\n",
       "      <td>78.218600</td>\n",
       "      <td>178.416700</td>\n",
       "      <td>106.860000</td>\n",
       "      <td>100.000000</td>\n",
       "      <td>100.000000</td>\n",
       "      <td>33.380000</td>\n",
       "      <td>1.619717e+09</td>\n",
       "    </tr>\n",
       "  </tbody>\n",
       "</table>\n",
       "</div>"
      ],
      "text/plain": [
       "              Lat         Lng    Max Temp    Humidity  Cloudiness  Wind Speed  \\\n",
       "count  559.000000  559.000000  559.000000  559.000000  559.000000  559.000000   \n",
       "mean    19.095853   16.093731   63.525098   68.182469   57.803220    7.516261   \n",
       "std     33.322268   89.267036   20.210118   23.188467   35.937779    4.886309   \n",
       "min    -54.800000 -179.166700   -0.690000    2.000000    0.000000    0.130000   \n",
       "25%     -7.926250  -62.118350   49.495000   55.000000   21.500000    4.000000   \n",
       "50%     21.444700   23.127400   68.400000   73.000000   74.000000    6.580000   \n",
       "75%     47.680100   93.100000   78.800000   87.000000   90.000000    9.975000   \n",
       "max     78.218600  178.416700  106.860000  100.000000  100.000000   33.380000   \n",
       "\n",
       "               Date  \n",
       "count  5.590000e+02  \n",
       "mean   1.619717e+09  \n",
       "std    1.454159e+02  \n",
       "min    1.619716e+09  \n",
       "25%    1.619716e+09  \n",
       "50%    1.619717e+09  \n",
       "75%    1.619717e+09  \n",
       "max    1.619717e+09  "
      ]
     },
     "execution_count": 46,
     "metadata": {},
     "output_type": "execute_result"
    }
   ],
   "source": [
    "weather_df.describe()"
   ]
  },
  {
   "cell_type": "markdown",
   "metadata": {},
   "source": [
    "## Inspect the data and remove the cities where the humidity > 100%.\n",
    "----\n",
    "Skip this step if there are no cities that have humidity > 100%. "
   ]
  },
  {
   "cell_type": "code",
   "execution_count": 6,
   "metadata": {},
   "outputs": [
    {
     "data": {
      "text/html": [
       "<div>\n",
       "<style scoped>\n",
       "    .dataframe tbody tr th:only-of-type {\n",
       "        vertical-align: middle;\n",
       "    }\n",
       "\n",
       "    .dataframe tbody tr th {\n",
       "        vertical-align: top;\n",
       "    }\n",
       "\n",
       "    .dataframe thead th {\n",
       "        text-align: right;\n",
       "    }\n",
       "</style>\n",
       "<table border=\"1\" class=\"dataframe\">\n",
       "  <thead>\n",
       "    <tr style=\"text-align: right;\">\n",
       "      <th></th>\n",
       "      <th>Lat</th>\n",
       "      <th>Lng</th>\n",
       "      <th>Max Temp</th>\n",
       "      <th>Humidity</th>\n",
       "      <th>Cloudiness</th>\n",
       "      <th>Wind Speed</th>\n",
       "      <th>Date</th>\n",
       "    </tr>\n",
       "  </thead>\n",
       "  <tbody>\n",
       "    <tr>\n",
       "      <th>count</th>\n",
       "      <td>550.000000</td>\n",
       "      <td>550.000000</td>\n",
       "      <td>550.000000</td>\n",
       "      <td>550.000000</td>\n",
       "      <td>550.000000</td>\n",
       "      <td>550.000000</td>\n",
       "      <td>5.500000e+02</td>\n",
       "    </tr>\n",
       "    <tr>\n",
       "      <th>mean</th>\n",
       "      <td>19.973545</td>\n",
       "      <td>17.124400</td>\n",
       "      <td>58.331400</td>\n",
       "      <td>67.890909</td>\n",
       "      <td>52.141818</td>\n",
       "      <td>8.544800</td>\n",
       "      <td>1.585764e+09</td>\n",
       "    </tr>\n",
       "    <tr>\n",
       "      <th>std</th>\n",
       "      <td>33.284840</td>\n",
       "      <td>91.595451</td>\n",
       "      <td>25.795297</td>\n",
       "      <td>20.864881</td>\n",
       "      <td>35.766469</td>\n",
       "      <td>6.078869</td>\n",
       "      <td>5.539674e+01</td>\n",
       "    </tr>\n",
       "    <tr>\n",
       "      <th>min</th>\n",
       "      <td>-54.800000</td>\n",
       "      <td>-179.170000</td>\n",
       "      <td>-11.340000</td>\n",
       "      <td>9.000000</td>\n",
       "      <td>0.000000</td>\n",
       "      <td>0.160000</td>\n",
       "      <td>1.585764e+09</td>\n",
       "    </tr>\n",
       "    <tr>\n",
       "      <th>25%</th>\n",
       "      <td>-8.077500</td>\n",
       "      <td>-64.627500</td>\n",
       "      <td>42.800000</td>\n",
       "      <td>55.000000</td>\n",
       "      <td>20.000000</td>\n",
       "      <td>4.525000</td>\n",
       "      <td>1.585764e+09</td>\n",
       "    </tr>\n",
       "    <tr>\n",
       "      <th>50%</th>\n",
       "      <td>23.630000</td>\n",
       "      <td>19.635000</td>\n",
       "      <td>64.940000</td>\n",
       "      <td>72.000000</td>\n",
       "      <td>57.000000</td>\n",
       "      <td>7.325000</td>\n",
       "      <td>1.585764e+09</td>\n",
       "    </tr>\n",
       "    <tr>\n",
       "      <th>75%</th>\n",
       "      <td>48.672500</td>\n",
       "      <td>97.350000</td>\n",
       "      <td>78.800000</td>\n",
       "      <td>83.000000</td>\n",
       "      <td>86.750000</td>\n",
       "      <td>11.410000</td>\n",
       "      <td>1.585764e+09</td>\n",
       "    </tr>\n",
       "    <tr>\n",
       "      <th>max</th>\n",
       "      <td>78.220000</td>\n",
       "      <td>179.320000</td>\n",
       "      <td>102.200000</td>\n",
       "      <td>100.000000</td>\n",
       "      <td>100.000000</td>\n",
       "      <td>46.080000</td>\n",
       "      <td>1.585764e+09</td>\n",
       "    </tr>\n",
       "  </tbody>\n",
       "</table>\n",
       "</div>"
      ],
      "text/plain": [
       "              Lat         Lng    Max Temp    Humidity  Cloudiness  Wind Speed  \\\n",
       "count  550.000000  550.000000  550.000000  550.000000  550.000000  550.000000   \n",
       "mean    19.973545   17.124400   58.331400   67.890909   52.141818    8.544800   \n",
       "std     33.284840   91.595451   25.795297   20.864881   35.766469    6.078869   \n",
       "min    -54.800000 -179.170000  -11.340000    9.000000    0.000000    0.160000   \n",
       "25%     -8.077500  -64.627500   42.800000   55.000000   20.000000    4.525000   \n",
       "50%     23.630000   19.635000   64.940000   72.000000   57.000000    7.325000   \n",
       "75%     48.672500   97.350000   78.800000   83.000000   86.750000   11.410000   \n",
       "max     78.220000  179.320000  102.200000  100.000000  100.000000   46.080000   \n",
       "\n",
       "               Date  \n",
       "count  5.500000e+02  \n",
       "mean   1.585764e+09  \n",
       "std    5.539674e+01  \n",
       "min    1.585764e+09  \n",
       "25%    1.585764e+09  \n",
       "50%    1.585764e+09  \n",
       "75%    1.585764e+09  \n",
       "max    1.585764e+09  "
      ]
     },
     "execution_count": 6,
     "metadata": {},
     "output_type": "execute_result"
    }
   ],
   "source": []
  },
  {
   "cell_type": "code",
   "execution_count": 17,
   "metadata": {},
   "outputs": [
    {
     "data": {
      "text/plain": [
       "Int64Index([], dtype='int64')"
      ]
     },
     "execution_count": 17,
     "metadata": {},
     "output_type": "execute_result"
    }
   ],
   "source": [
    "#  Get the indices of cities that have humidity over 100%.\n"
   ]
  },
  {
   "cell_type": "code",
   "execution_count": 19,
   "metadata": {},
   "outputs": [
    {
     "data": {
      "text/html": [
       "<div>\n",
       "<style scoped>\n",
       "    .dataframe tbody tr th:only-of-type {\n",
       "        vertical-align: middle;\n",
       "    }\n",
       "\n",
       "    .dataframe tbody tr th {\n",
       "        vertical-align: top;\n",
       "    }\n",
       "\n",
       "    .dataframe thead th {\n",
       "        text-align: right;\n",
       "    }\n",
       "</style>\n",
       "<table border=\"1\" class=\"dataframe\">\n",
       "  <thead>\n",
       "    <tr style=\"text-align: right;\">\n",
       "      <th></th>\n",
       "      <th>City</th>\n",
       "      <th>Lat</th>\n",
       "      <th>Lng</th>\n",
       "      <th>Max Temp</th>\n",
       "      <th>Humidity</th>\n",
       "      <th>Cloudiness</th>\n",
       "      <th>Wind Speed</th>\n",
       "      <th>Country</th>\n",
       "      <th>Date</th>\n",
       "    </tr>\n",
       "  </thead>\n",
       "  <tbody>\n",
       "    <tr>\n",
       "      <td>0</td>\n",
       "      <td>butaritari</td>\n",
       "      <td>3.07</td>\n",
       "      <td>172.79</td>\n",
       "      <td>83.32</td>\n",
       "      <td>74</td>\n",
       "      <td>84</td>\n",
       "      <td>10.42</td>\n",
       "      <td>KI</td>\n",
       "      <td>1593605283</td>\n",
       "    </tr>\n",
       "    <tr>\n",
       "      <td>1</td>\n",
       "      <td>yerbogachen</td>\n",
       "      <td>61.28</td>\n",
       "      <td>108.01</td>\n",
       "      <td>79.52</td>\n",
       "      <td>58</td>\n",
       "      <td>20</td>\n",
       "      <td>7.70</td>\n",
       "      <td>RU</td>\n",
       "      <td>1593605121</td>\n",
       "    </tr>\n",
       "    <tr>\n",
       "      <td>2</td>\n",
       "      <td>cape town</td>\n",
       "      <td>-33.93</td>\n",
       "      <td>18.42</td>\n",
       "      <td>73.00</td>\n",
       "      <td>77</td>\n",
       "      <td>27</td>\n",
       "      <td>4.70</td>\n",
       "      <td>ZA</td>\n",
       "      <td>1593605039</td>\n",
       "    </tr>\n",
       "    <tr>\n",
       "      <td>3</td>\n",
       "      <td>touba</td>\n",
       "      <td>8.28</td>\n",
       "      <td>-7.68</td>\n",
       "      <td>79.97</td>\n",
       "      <td>75</td>\n",
       "      <td>82</td>\n",
       "      <td>3.58</td>\n",
       "      <td>CI</td>\n",
       "      <td>1593605284</td>\n",
       "    </tr>\n",
       "    <tr>\n",
       "      <td>4</td>\n",
       "      <td>jamestown</td>\n",
       "      <td>42.10</td>\n",
       "      <td>-79.24</td>\n",
       "      <td>64.00</td>\n",
       "      <td>88</td>\n",
       "      <td>1</td>\n",
       "      <td>6.93</td>\n",
       "      <td>US</td>\n",
       "      <td>1593605284</td>\n",
       "    </tr>\n",
       "  </tbody>\n",
       "</table>\n",
       "</div>"
      ],
      "text/plain": [
       "          City    Lat     Lng  Max Temp  Humidity  Cloudiness  Wind Speed  \\\n",
       "0   butaritari   3.07  172.79     83.32        74          84       10.42   \n",
       "1  yerbogachen  61.28  108.01     79.52        58          20        7.70   \n",
       "2    cape town -33.93   18.42     73.00        77          27        4.70   \n",
       "3        touba   8.28   -7.68     79.97        75          82        3.58   \n",
       "4    jamestown  42.10  -79.24     64.00        88           1        6.93   \n",
       "\n",
       "  Country        Date  \n",
       "0      KI  1593605283  \n",
       "1      RU  1593605121  \n",
       "2      ZA  1593605039  \n",
       "3      CI  1593605284  \n",
       "4      US  1593605284  "
      ]
     },
     "execution_count": 19,
     "metadata": {},
     "output_type": "execute_result"
    }
   ],
   "source": [
    "# Make a new DataFrame equal to the city data to drop all humidity outliers by index.\n",
    "# Passing \"inplace=False\" will make a copy of the city_data DataFrame, which we call \"clean_city_data\".\n"
   ]
  },
  {
   "cell_type": "markdown",
   "metadata": {},
   "source": [
    "## Plotting the Data\n",
    "* Use proper labeling of the plots using plot titles (including date of analysis) and axes labels.\n",
    "* Save the plotted figures as .pngs."
   ]
  },
  {
   "cell_type": "markdown",
   "metadata": {},
   "source": [
    "## Latitude vs. Temperature Plot"
   ]
  },
  {
   "cell_type": "code",
   "execution_count": 41,
   "metadata": {
    "scrolled": true
   },
   "outputs": [
    {
     "data": {
      "image/png": "[encoded data removed]",
      "text/plain": [
       "<Figure size 432x288 with 1 Axes>"
      ]
     },
     "metadata": {
      "needs_background": "light"
     },
     "output_type": "display_data"
    }
   ],
   "source": [
    "plt.scatter(weather_df['Lat'],weather_df['Max Temp'],edgecolors='black')\n",
    "\n",
    "\n",
    "plt.title(\"City Latitude vs. Max Temperature (04/29/21)\")\n",
    "plt.xlabel(\"Latitude\")\n",
    "plt.ylabel(\"Max Temperature (F)\")\n",
    "plt.grid()\n",
    "\n",
    "# Save the figure\n",
    "plt.savefig(\"../output_data/Lat vs Temp fig (1)\")\n",
    "\n",
    "plt.show()"
   ]
  },
  {
   "cell_type": "markdown",
   "metadata": {},
   "source": [
    "The graph shows that the closer to 0 latutude (The equator), the higher the temperature, and the farther away from the equator, the lower the temperature."
   ]
  },
  {
   "cell_type": "markdown",
   "metadata": {},
   "source": [
    "## Latitude vs. Humidity Plot"
   ]
  },
  {
   "cell_type": "code",
   "execution_count": 42,
   "metadata": {},
   "outputs": [
    {
     "data": {
      "image/png": "[encoded data removed]",
      "text/plain": [
       "<Figure size 432x288 with 1 Axes>"
      ]
     },
     "metadata": {
      "needs_background": "light"
     },
     "output_type": "display_data"
    }
   ],
   "source": [
    "plt.scatter(weather_df['Lat'],weather_df['Humidity'],edgecolors='black')\n",
    "\n",
    "\n",
    "plt.title(\"City Latitude vs. Humidity (04/29/21)\")\n",
    "plt.xlabel(\"Latitude\")\n",
    "plt.ylabel(\"Humidity (%)\")\n",
    "plt.grid()\n",
    "\n",
    "# Save the figure\n",
    "plt.savefig(\"../output_data/Lat vs Humidity (2)\")\n",
    "\n",
    "plt.show()"
   ]
  },
  {
   "cell_type": "markdown",
   "metadata": {},
   "source": [
    "The graph shows that there is no relation between Latitude and Humidity."
   ]
  },
  {
   "cell_type": "markdown",
   "metadata": {},
   "source": [
    "## Latitude vs. Cloudiness Plot"
   ]
  },
  {
   "cell_type": "code",
   "execution_count": 43,
   "metadata": {},
   "outputs": [
    {
     "data": {
      "image/png": "[encoded data removed]",
      "text/plain": [
       "<Figure size 432x288 with 1 Axes>"
      ]
     },
     "metadata": {
      "needs_background": "light"
     },
     "output_type": "display_data"
    }
   ],
   "source": [
    "plt.scatter(weather_df['Lat'],weather_df['Cloudiness'],edgecolors='black')\n",
    "\n",
    "\n",
    "plt.title(\"City Latitude vs. Cloudiness (04/29/21)\")\n",
    "plt.xlabel(\"Latitude\")\n",
    "plt.ylabel(\"Cloudiness (%)\")\n",
    "plt.grid()\n",
    "\n",
    "# Save the figure\n",
    "plt.savefig(\"../output_data/Lat vs Cloudiness (3)\")\n",
    "\n",
    "plt.show()"
   ]
  },
  {
   "cell_type": "markdown",
   "metadata": {},
   "source": [
    "The graph shows that there is no relation between Latitude and Cloudiness."
   ]
  },
  {
   "cell_type": "markdown",
   "metadata": {},
   "source": [
    "## Latitude vs. Wind Speed Plot"
   ]
  },
  {
   "cell_type": "code",
   "execution_count": 44,
   "metadata": {},
   "outputs": [
    {
     "data": {
      "image/png": "[encoded data removed]",
      "text/plain": [
       "<Figure size 432x288 with 1 Axes>"
      ]
     },
     "metadata": {
      "needs_background": "light"
     },
     "output_type": "display_data"
    }
   ],
   "source": [
    "plt.scatter(weather_df['Lat'],weather_df['Wind Speed'],edgecolors='black')\n",
    "\n",
    "\n",
    "plt.title(\"City Latitude vs. Wind Speed (04/29/21)\")\n",
    "plt.xlabel(\"Latitude\")\n",
    "plt.ylabel(\"Wind Speed (%)\")\n",
    "plt.grid()\n",
    "\n",
    "# Save the figure\n",
    "plt.savefig(\"../output_data/Lat vs Wind (4)\")\n",
    "\n",
    "plt.show()"
   ]
  },
  {
   "cell_type": "markdown",
   "metadata": {},
   "source": [
    "The graph shows that there is no relation between Latitude and Wind Speed."
   ]
  },
  {
   "cell_type": "markdown",
   "metadata": {},
   "source": [
    "## Linear Regression"
   ]
  },
  {
   "cell_type": "code",
   "execution_count": 24,
   "metadata": {},
   "outputs": [],
   "source": []
  },
  {
   "cell_type": "markdown",
   "metadata": {},
   "source": [
    "####  Northern Hemisphere - Max Temp vs. Latitude Linear Regression"
   ]
  },
  {
   "cell_type": "code",
   "execution_count": 25,
   "metadata": {},
   "outputs": [
    {
     "name": "stdout",
     "output_type": "stream",
     "text": [
      "The r-value is: 0.46937863826630627\n"
     ]
    },
    {
     "data": {
      "image/png": "[encoded data removed]",
      "text/plain": [
       "<Figure size 432x288 with 1 Axes>"
      ]
     },
     "metadata": {
      "needs_background": "light"
     },
     "output_type": "display_data"
    }
   ],
   "source": []
  },
  {
   "cell_type": "markdown",
   "metadata": {},
   "source": [
    "####  Southern Hemisphere - Max Temp vs. Latitude Linear Regression"
   ]
  },
  {
   "cell_type": "code",
   "execution_count": 26,
   "metadata": {},
   "outputs": [
    {
     "name": "stdout",
     "output_type": "stream",
     "text": [
      "The r-value is: 0.6082708688906918\n"
     ]
    },
    {
     "data": {
      "image/png": "[encoded data removed]",
      "text/plain": [
       "<Figure size 432x288 with 1 Axes>"
      ]
     },
     "metadata": {
      "needs_background": "light"
     },
     "output_type": "display_data"
    }
   ],
   "source": []
  },
  {
   "cell_type": "markdown",
   "metadata": {},
   "source": [
    "####  Northern Hemisphere - Humidity (%) vs. Latitude Linear Regression"
   ]
  },
  {
   "cell_type": "code",
   "execution_count": 27,
   "metadata": {},
   "outputs": [
    {
     "name": "stdout",
     "output_type": "stream",
     "text": [
      "The r-value is: 0.000543987878808455\n"
     ]
    },
    {
     "data": {
      "image/png": "[encoded data removed]",
      "text/plain": [
       "<Figure size 432x288 with 1 Axes>"
      ]
     },
     "metadata": {
      "needs_background": "light"
     },
     "output_type": "display_data"
    }
   ],
   "source": []
  },
  {
   "cell_type": "markdown",
   "metadata": {},
   "source": [
    "####  Southern Hemisphere - Humidity (%) vs. Latitude Linear Regression"
   ]
  },
  {
   "cell_type": "code",
   "execution_count": 28,
   "metadata": {},
   "outputs": [
    {
     "name": "stdout",
     "output_type": "stream",
     "text": [
      "The r-value is: 0.014985174297345524\n"
     ]
    },
    {
     "data": {
      "image/png": "[encoded data removed]",
      "text/plain": [
       "<Figure size 432x288 with 1 Axes>"
      ]
     },
     "metadata": {
      "needs_background": "light"
     },
     "output_type": "display_data"
    }
   ],
   "source": []
  },
  {
   "cell_type": "markdown",
   "metadata": {},
   "source": [
    "####  Northern Hemisphere - Cloudiness (%) vs. Latitude Linear Regression"
   ]
  },
  {
   "cell_type": "code",
   "execution_count": 29,
   "metadata": {},
   "outputs": [
    {
     "name": "stdout",
     "output_type": "stream",
     "text": [
      "The r-value is: 0.0020898727664228514\n"
     ]
    },
    {
     "data": {
      "image/png": "[encoded data removed]",
      "text/plain": [
       "<Figure size 432x288 with 1 Axes>"
      ]
     },
     "metadata": {
      "needs_background": "light"
     },
     "output_type": "display_data"
    }
   ],
   "source": []
  },
  {
   "cell_type": "markdown",
   "metadata": {},
   "source": [
    "####  Southern Hemisphere - Cloudiness (%) vs. Latitude Linear Regression"
   ]
  },
  {
   "cell_type": "code",
   "execution_count": 30,
   "metadata": {},
   "outputs": [
    {
     "name": "stdout",
     "output_type": "stream",
     "text": [
      "The r-value is: 0.0035263772085582894\n"
     ]
    },
    {
     "data": {
      "image/png": "[encoded data removed]",
      "text/plain": [
       "<Figure size 432x288 with 1 Axes>"
      ]
     },
     "metadata": {
      "needs_background": "light"
     },
     "output_type": "display_data"
    }
   ],
   "source": []
  },
  {
   "cell_type": "markdown",
   "metadata": {},
   "source": [
    "####  Northern Hemisphere - Wind Speed (mph) vs. Latitude Linear Regression"
   ]
  },
  {
   "cell_type": "code",
   "execution_count": 31,
   "metadata": {},
   "outputs": [
    {
     "name": "stdout",
     "output_type": "stream",
     "text": [
      "The r-value is: 0.04019723576144484\n"
     ]
    },
    {
     "data": {
      "image/png": "[encoded data removed]",
      "text/plain": [
       "<Figure size 432x288 with 1 Axes>"
      ]
     },
     "metadata": {
      "needs_background": "light"
     },
     "output_type": "display_data"
    }
   ],
   "source": []
  },
  {
   "cell_type": "markdown",
   "metadata": {},
   "source": [
    "####  Southern Hemisphere - Wind Speed (mph) vs. Latitude Linear Regression"
   ]
  },
  {
   "cell_type": "code",
   "execution_count": 32,
   "metadata": {},
   "outputs": [
    {
     "name": "stdout",
     "output_type": "stream",
     "text": [
      "The r-value is: 0.017128274759839232\n"
     ]
    },
    {
     "data": {
      "image/png": "[encoded data removed]",
      "text/plain": [
       "<Figure size 432x288 with 1 Axes>"
      ]
     },
     "metadata": {
      "needs_background": "light"
     },
     "output_type": "display_data"
    }
   ],
   "source": []
  },
  {
   "cell_type": "code",
   "execution_count": null,
   "metadata": {},
   "outputs": [],
   "source": []
  }
 ],
 "metadata": {
  "anaconda-cloud": {},
  "kernel_info": {
   "name": "python3"
  },
  "kernelspec": {
   "display_name": "Python 3",
   "language": "python",
   "name": "python3"
  },
  "language_info": {
   "codemirror_mode": {
    "name": "ipython",
    "version": 3
   },
   "file_extension": ".py",
   "mimetype": "text/x-python",
   "name": "python",
   "nbconvert_exporter": "python",
   "pygments_lexer": "ipython3",
   "version": "3.8.5"
  },
  "latex_envs": {
   "LaTeX_envs_menu_present": true,
   "autoclose": false,
   "autocomplete": true,
   "bibliofile": "biblio.bib",
   "cite_by": "apalike",
   "current_citInitial": 1,
   "eqLabelWithNumbers": true,
   "eqNumInitial": 1,
   "hotkeys": {
    "equation": "Ctrl-E",
    "itemize": "Ctrl-I"
   },
   "labels_anchors": false,
   "latex_user_defs": false,
   "report_style_numbering": false,
   "user_envs_cfg": false
  },
  "nteract": {
   "version": "0.12.3"
  }
 },
 "nbformat": 4,
 "nbformat_minor": 2
}
